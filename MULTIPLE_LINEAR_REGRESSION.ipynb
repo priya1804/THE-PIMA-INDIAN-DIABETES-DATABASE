{
  "nbformat": 4,
  "nbformat_minor": 0,
  "metadata": {
    "colab": {
      "provenance": [],
      "authorship_tag": "ABX9TyM3sBTdVdOffnkpe3eVhgMR",
      "include_colab_link": true
    },
    "kernelspec": {
      "name": "python3",
      "display_name": "Python 3"
    },
    "language_info": {
      "name": "python"
    }
  },
  "cells": [
    {
      "cell_type": "markdown",
      "metadata": {
        "id": "view-in-github",
        "colab_type": "text"
      },
      "source": [
        "<a href=\"https://colab.research.google.com/github/priya1804/THE-PIMA-INDIAN-DIABETES-DATABASE/blob/main/MULTIPLE_LINEAR_REGRESSION.ipynb\" target=\"_parent\"><img src=\"https://colab.research.google.com/assets/colab-badge.svg\" alt=\"Open In Colab\"/></a>"
      ]
    },
    {
      "cell_type": "code",
      "execution_count": 1,
      "metadata": {
        "id": "ZMMnYj-1hvNq"
      },
      "outputs": [],
      "source": [
        "# 1. Load the basic libraries and packages\n",
        "import numpy as np\n",
        "import pandas as pd\n",
        "import matplotlib.pyplot as plt"
      ]
    },
    {
      "cell_type": "code",
      "source": [
        "# 2. Load the dataset\n",
        "df = pd.read_csv('/content/diabetes.csv')\n",
        "print(df.head())"
      ],
      "metadata": {
        "colab": {
          "base_uri": "https://localhost:8080/"
        },
        "id": "5LvADNcoic4n",
        "outputId": "171aa16f-da18-40cc-aecc-4070d1db7af9"
      },
      "execution_count": 4,
      "outputs": [
        {
          "output_type": "stream",
          "name": "stdout",
          "text": [
            "   Pregnancies  Glucose  BloodPressure  SkinThickness  Insulin   BMI  \\\n",
            "0            6      148             72             35        0  33.6   \n",
            "1            1       85             66             29        0  26.6   \n",
            "2            8      183             64              0        0  23.3   \n",
            "3            1       89             66             23       94  28.1   \n",
            "4            0      137             40             35      168  43.1   \n",
            "\n",
            "   DiabetesPedigreeFunction  Age  Outcome  \n",
            "0                     0.627   50        1  \n",
            "1                     0.351   31        0  \n",
            "2                     0.672   32        1  \n",
            "3                     0.167   21        0  \n",
            "4                     2.288   33        1  \n"
          ]
        }
      ]
    },
    {
      "cell_type": "code",
      "source": [
        "# 3. Analyze the dataset\n",
        "print(f\"Dataset Shape: {df.shape}\")\n",
        "print(\"Dataset Description:\\n\", df.describe())"
      ],
      "metadata": {
        "colab": {
          "base_uri": "https://localhost:8080/"
        },
        "id": "Oo6ERNydic2o",
        "outputId": "bdd656ec-e992-4627-d9f9-eeeaeca8d360"
      },
      "execution_count": 5,
      "outputs": [
        {
          "output_type": "stream",
          "name": "stdout",
          "text": [
            "Dataset Shape: (768, 9)\n",
            "Dataset Description:\n",
            "        Pregnancies     Glucose  BloodPressure  SkinThickness     Insulin  \\\n",
            "count   768.000000  768.000000     768.000000     768.000000  768.000000   \n",
            "mean      3.845052  120.894531      69.105469      20.536458   79.799479   \n",
            "std       3.369578   31.972618      19.355807      15.952218  115.244002   \n",
            "min       0.000000    0.000000       0.000000       0.000000    0.000000   \n",
            "25%       1.000000   99.000000      62.000000       0.000000    0.000000   \n",
            "50%       3.000000  117.000000      72.000000      23.000000   30.500000   \n",
            "75%       6.000000  140.250000      80.000000      32.000000  127.250000   \n",
            "max      17.000000  199.000000     122.000000      99.000000  846.000000   \n",
            "\n",
            "              BMI  DiabetesPedigreeFunction         Age     Outcome  \n",
            "count  768.000000                768.000000  768.000000  768.000000  \n",
            "mean    31.992578                  0.471876   33.240885    0.348958  \n",
            "std      7.884160                  0.331329   11.760232    0.476951  \n",
            "min      0.000000                  0.078000   21.000000    0.000000  \n",
            "25%     27.300000                  0.243750   24.000000    0.000000  \n",
            "50%     32.000000                  0.372500   29.000000    0.000000  \n",
            "75%     36.600000                  0.626250   41.000000    1.000000  \n",
            "max     67.100000                  2.420000   81.000000    1.000000  \n"
          ]
        }
      ]
    },
    {
      "cell_type": "code",
      "source": [
        "# 4. Normalize the data (only features, not target)\n",
        "def feature_normalization(x):\n",
        "    mean = np.mean(x, axis=0)\n",
        "    std = np.std(x, axis=0)\n",
        "    x_norm = (x - mean) / std\n",
        "    return x_norm, mean, std"
      ],
      "metadata": {
        "id": "4nF847Hpic0V"
      },
      "execution_count": 6,
      "outputs": []
    },
    {
      "cell_type": "code",
      "source": [
        "# Select features for normalization\n",
        "X_in = df.iloc[:, :-1].values  # Exclude the 'Outcome' column (target)\n",
        "X_normalized, mean_X, std_X = feature_normalization(X_in)\n",
        "X_normalized[:5]  # Check first 5 rows of normalized features"
      ],
      "metadata": {
        "colab": {
          "base_uri": "https://localhost:8080/"
        },
        "id": "RwjzonExicyR",
        "outputId": "c6640e02-ac1e-4a70-fe94-7e50739703ab"
      },
      "execution_count": 7,
      "outputs": [
        {
          "output_type": "execute_result",
          "data": {
            "text/plain": [
              "array([[ 0.63994726,  0.84832379,  0.14964075,  0.90726993, -0.69289057,\n",
              "         0.20401277,  0.46849198,  1.4259954 ],\n",
              "       [-0.84488505, -1.12339636, -0.16054575,  0.53090156, -0.69289057,\n",
              "        -0.68442195, -0.36506078, -0.19067191],\n",
              "       [ 1.23388019,  1.94372388, -0.26394125, -1.28821221, -0.69289057,\n",
              "        -1.10325546,  0.60439732, -0.10558415],\n",
              "       [-0.84488505, -0.99820778, -0.16054575,  0.15453319,  0.12330164,\n",
              "        -0.49404308, -0.92076261, -1.04154944],\n",
              "       [-1.14185152,  0.5040552 , -1.50468724,  0.90726993,  0.76583594,\n",
              "         1.4097456 ,  5.4849091 , -0.0204964 ]])"
            ]
          },
          "metadata": {},
          "execution_count": 7
        }
      ]
    },
    {
      "cell_type": "code",
      "source": [
        "# 5. Pre-process the data\n",
        "# The target variable 'Outcome' remains as is\n",
        "y = df['Outcome'].values"
      ],
      "metadata": {
        "id": "s956J4dEicvw"
      },
      "execution_count": 8,
      "outputs": []
    },
    {
      "cell_type": "code",
      "source": [
        "# 6. Visualize the Data\n",
        "\n",
        "plt.scatter(df['Glucose'], df['Outcome'], color='blue')\n",
        "plt.xlabel('Glucose')\n",
        "plt.ylabel('Outcome')\n",
        "plt.title('Glucose vs Outcome')\n",
        "plt.show()"
      ],
      "metadata": {
        "colab": {
          "base_uri": "https://localhost:8080/",
          "height": 472
        },
        "id": "vwxkyJWRict0",
        "outputId": "32b7ea2a-0f73-48fe-b763-6b03bf140f9e"
      },
      "execution_count": 9,
      "outputs": [
        {
          "output_type": "display_data",
          "data": {
            "text/plain": [
              "<Figure size 640x480 with 1 Axes>"
            ],
            "image/png": "[encoded data removed]"
          },
          "metadata": {}
        }
      ]
    },
    {
      "cell_type": "code",
      "source": [
        "# 8. Write the Hypothesis Function\n",
        "def hypothesis(theta_array, X):\n",
        "    # Use all the elements of theta_array, including the intercept term (theta_0)\n",
        "    return np.dot(X, theta_array)"
      ],
      "metadata": {
        "id": "rPt2fQ7iicrR"
      },
      "execution_count": 31,
      "outputs": []
    },
    {
      "cell_type": "code",
      "source": [
        "# 9. Write the Cost Function\n",
        "def cost_function(theta_array, X, y, m):\n",
        "    total_cost = np.sum((hypothesis(theta_array, X) - y) ** 2)\n",
        "    return total_cost / (2 * m)"
      ],
      "metadata": {
        "id": "1OGVmA0Qicou"
      },
      "execution_count": 34,
      "outputs": []
    },
    {
      "cell_type": "code",
      "source": [
        "# 10. Write the Gradient Descent optimization algorithm\n",
        "def gradient_descent(theta_array, X, y, m, alpha):\n",
        "    # Calculate the error (predictions - actual values)\n",
        "    error = hypothesis(theta_array, X) - y\n",
        "\n",
        "    # Calculate gradients\n",
        "    gradient = np.dot(X.T, error) / m  # X.T is the transpose of X\n",
        "\n",
        "    # Update parameters using gradient descent\n",
        "    theta_array -= alpha * gradient\n",
        "\n",
        "    return theta_array"
      ],
      "metadata": {
        "id": "T3hdAMk_icko"
      },
      "execution_count": 32,
      "outputs": []
    },
    {
      "cell_type": "code",
      "source": [
        "# 11. Apply the training over the dataset to minimize the loss\n",
        "def training(X, y, alpha, epochs):\n",
        "    m = len(y)\n",
        "\n",
        "    # Add a column of ones to X for the intercept term (theta_0)\n",
        "    X_with_intercept = np.c_[np.ones(m), X]\n",
        "\n",
        "    # Initialize theta values (including intercept)\n",
        "    theta_array = np.zeros(X_with_intercept.shape[1])  # Now it has 9 parameters (1 for intercept + 8 for features)\n",
        "\n",
        "    cost_values = []\n",
        "\n",
        "    for i in range(epochs):\n",
        "        theta_array = gradient_descent(theta_array, X_with_intercept, y, m, alpha)\n",
        "        loss = cost_function(theta_array, X_with_intercept, y, m)\n",
        "        cost_values.append(loss)\n",
        "\n",
        "        if i % (epochs // 10) == 0 or i == epochs - 1:\n",
        "            print(f\"Epoch {i} | Cost: {loss}\")\n",
        "\n",
        "    # Plot cost function vs iterations (Learning Curve)\n",
        "    plt.plot(range(epochs), cost_values, label='Cost Function')\n",
        "    plt.xlabel('Epochs')\n",
        "    plt.ylabel('Cost')\n",
        "    plt.title('Cost Function vs Epochs (Learning Curve)')\n",
        "    plt.legend()\n",
        "    plt.show()\n",
        "\n",
        "    return theta_array"
      ],
      "metadata": {
        "id": "R8JtjK_ikP15"
      },
      "execution_count": 33,
      "outputs": []
    },
    {
      "cell_type": "code",
      "source": [
        "# 12. Find the best fit line to the given dataset\n",
        "alpha = 0.01\n",
        "epochs = 500\n",
        "theta_array = training(X_normalized, y, alpha, epochs)\n",
        "\n",
        "# Print the final parameters (theta values)\n",
        "print(f\"Final Theta values: {theta_array}\")"
      ],
      "metadata": {
        "colab": {
          "base_uri": "https://localhost:8080/",
          "height": 727
        },
        "id": "YMyJ7rEwkPzi",
        "outputId": "2bae90a0-9d39-4fda-ea7d-ab3509415b7c"
      },
      "execution_count": 35,
      "outputs": [
        {
          "output_type": "stream",
          "name": "stdout",
          "text": [
            "Epoch 0 | Cost: 0.1722171772537491\n",
            "Epoch 50 | Cost: 0.10974993844276004\n",
            "Epoch 100 | Cost: 0.09041671094053845\n",
            "Epoch 150 | Cost: 0.08356356071918968\n",
            "Epoch 200 | Cost: 0.08095985308309786\n",
            "Epoch 250 | Cost: 0.07992633379169946\n",
            "Epoch 300 | Cost: 0.07949963077453698\n",
            "Epoch 350 | Cost: 0.07931564661542749\n",
            "Epoch 400 | Cost: 0.0792322613107495\n",
            "Epoch 450 | Cost: 0.0791923268385239\n",
            "Epoch 499 | Cost: 0.07917237134912793\n"
          ]
        },
        {
          "output_type": "display_data",
          "data": {
            "text/plain": [
              "<Figure size 640x480 with 1 Axes>"
            ],
            "image/png": "[encoded data removed]"
          },
          "metadata": {}
        },
        {
          "output_type": "stream",
          "name": "stdout",
          "text": [
            "Final Theta values: [ 0.34666551  0.06644021  0.18366796 -0.04315793 -0.00053357 -0.0150901\n",
            "  0.10396258  0.04868087  0.03515219]\n"
          ]
        }
      ]
    },
    {
      "cell_type": "code",
      "source": [
        "# 13. Observe the cost function vs iterations learning curve\n",
        "def training(X, y, alpha, epochs):\n",
        "    m = len(y)\n",
        "    theta_array = np.zeros(X.shape[1] + 1)  # Initialize theta (including theta_0)\n",
        "    X_with_intercept = np.c_[np.ones(m), X]  # Add a column of ones for intercept term (theta_0)\n",
        "    cost_values = []\n",
        "\n",
        "    for i in range(epochs):\n",
        "        theta_array = gradient_descent(theta_array, X_with_intercept, y, m, alpha)\n",
        "        loss = cost_function(theta_array, X_with_intercept, y, m)\n",
        "        cost_values.append(loss)\n",
        "\n",
        "        if i % (epochs // 10) == 0 or i == epochs - 1:\n",
        "            print(f\"Epoch {i} | Cost: {loss}\")\n",
        "\n",
        "    # Plot cost function vs iterations (Learning Curve)\n",
        "    plt.plot(range(epochs), cost_values, label='Cost Function')\n",
        "    plt.xlabel('Epochs')\n",
        "    plt.ylabel('Cost')\n",
        "    plt.title('Cost Function vs Epochs (Learning Curve)')\n",
        "    plt.legend()\n",
        "    plt.show()\n",
        "\n",
        "    return theta_array\n"
      ],
      "metadata": {
        "id": "igj8n7HkkPxM"
      },
      "execution_count": 37,
      "outputs": []
    },
    {
      "cell_type": "code",
      "source": [],
      "metadata": {
        "id": "dTksCtLHiciQ"
      },
      "execution_count": null,
      "outputs": []
    }
  ]
}